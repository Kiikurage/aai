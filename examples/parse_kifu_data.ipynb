{
 "cells": [
  {
   "cell_type": "code",
   "execution_count": null,
   "metadata": {
    "collapsed": true
   },
   "outputs": [],
   "source": [
    "from board import Color\n",
    "import os\n",
    "import os.path as path\n",
    "import numpy as np\n",
    "DATA_ROOT = '/mnt/share/aai_kikura'"
   ]
  },
  {
   "cell_type": "markdown",
   "metadata": {},
   "source": [
    "## データ読み込み"
   ]
  },
  {
   "cell_type": "code",
   "execution_count": null,
   "metadata": {
    "collapsed": false
   },
   "outputs": [],
   "source": [
    "kifu_list = os.listdir(path.join(DATA_ROOT, './kifu'))\n",
    "kifu_list = list(map(lambda x: path.join(DATA_ROOT, './kifu', x), kifu_list))"
   ]
  },
  {
   "cell_type": "markdown",
   "metadata": {},
   "source": [
    "## パース\n",
    "パース途中にエラーが起きたらその対局データは捨てる"
   ]
  },
  {
   "cell_type": "code",
   "execution_count": null,
   "metadata": {
    "collapsed": false,
    "scrolled": false
   },
   "outputs": [],
   "source": [
    "SPACE = ' '\n",
    "c2num = {c:i for i, c in enumerate('ABCDEFGH')}\n",
    "\n",
    "def parse(line):\n",
    "    try:\n",
    "        cursor = 0\n",
    "        color = [Color.Black]\n",
    "        plies = []\n",
    "\n",
    "        def append_ply(y, x, color=color):\n",
    "            plies.append((color[0], np.int32(int(y)*8+int(x)-1)))\n",
    "            color[0] = Color.Black if color[0] == Color.White else Color.White\n",
    "\n",
    "        while True:\n",
    "            y = line[cursor]\n",
    "            cursor += 1\n",
    "\n",
    "            if y == SPACE:  \n",
    "                if line[cursor] not in c2num:\n",
    "                    # EoK\n",
    "                    meta = line[cursor-1:]\n",
    "                    return {\n",
    "                        'plies': plies,\n",
    "                        'meta': meta\n",
    "                    }\n",
    "\n",
    "                else: \n",
    "                    # PASS\n",
    "                    append_ply(0, -1)\n",
    "                    continue\n",
    "\n",
    "            y  = c2num[y]\n",
    "\n",
    "            x = line[cursor]\n",
    "            cursor += 1\n",
    "\n",
    "            append_ply(y, x)\n",
    "\n",
    "    except Exception:\n",
    "        return None\n",
    "        \n",
    "def parse_file(file_path):\n",
    "    with open(file_path, 'r') as f:\n",
    "        texts = f.read()\n",
    "        \n",
    "    data = tuple([parse(line) for line in texts.strip().split('\\n')])\n",
    "    data = [d for d in data if d is not None]    \n",
    "    return data\n",
    "\n",
    "data_all = []\n",
    "\n",
    "for i, kifu in enumerate(kifu_list):\n",
    "    print(i, kifu)\n",
    "    data_all.extend(parse_file(kifu))"
   ]
  },
  {
   "cell_type": "markdown",
   "metadata": {},
   "source": [
    "## 書き出し"
   ]
  },
  {
   "cell_type": "code",
   "execution_count": null,
   "metadata": {
    "collapsed": false
   },
   "outputs": [],
   "source": [
    "import pickle\n",
    "\n",
    "with file.open(path.join(DATA_ROOT, './data.pkl'), 'wb') as f:\n",
    "    pickle.dump(data_all, f)"
   ]
  }
 ],
 "metadata": {
  "kernelspec": {
   "display_name": "Python 3",
   "language": "python",
   "name": "python3"
  },
  "language_info": {
   "codemirror_mode": {
    "name": "ipython",
    "version": 3.0
   },
   "file_extension": ".py",
   "mimetype": "text/x-python",
   "name": "python",
   "nbconvert_exporter": "python",
   "pygments_lexer": "ipython3",
   "version": "3.5.2"
  }
 },
 "nbformat": 4,
 "nbformat_minor": 0
}